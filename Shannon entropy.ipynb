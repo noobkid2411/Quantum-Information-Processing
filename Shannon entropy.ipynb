{
 "cells": [
  {
   "cell_type": "code",
   "execution_count": 8,
   "metadata": {},
   "outputs": [],
   "source": [
    "import numpy as np\n",
    "import math as m\n",
    "from scipy import linalg as la"
   ]
  },
  {
   "cell_type": "code",
   "execution_count": 12,
   "metadata": {},
   "outputs": [
    {
     "name": "stdout",
     "output_type": "stream",
     "text": [
      "1.0\n",
      "2.584962500721156\n"
     ]
    }
   ],
   "source": [
    "# Compute Shannon Entropy of random variable for a coin\n",
    "HY = -m.log2(1/2)\n",
    "print(HY)\n",
    "# Compute Shannon Entropy of random variable for six sided die\n",
    "HY = -m.log2(1/6)\n",
    "print(HY)"
   ]
  },
  {
   "cell_type": "code",
   "execution_count": 13,
   "metadata": {},
   "outputs": [],
   "source": [
    "# Defining a random probability distibution f:X --> [0,1]\n",
    "f1 = 0.5\n",
    "f2 = 0.2 \n",
    "f3 = 0.1\n",
    "f4 = 0.2"
   ]
  },
  {
   "cell_type": "code",
   "execution_count": 14,
   "metadata": {},
   "outputs": [
    {
     "data": {
      "text/plain": [
       "1.0"
      ]
     },
     "execution_count": 14,
     "metadata": {},
     "output_type": "execute_result"
    }
   ],
   "source": [
    "#confirming the sum would be one\n",
    "f1+f2+f3+f4"
   ]
  },
  {
   "cell_type": "code",
   "execution_count": 15,
   "metadata": {},
   "outputs": [
    {
     "name": "stdout",
     "output_type": "stream",
     "text": [
      "1.7609640474436812\n"
     ]
    }
   ],
   "source": [
    "HX = -(f1*m.log2(f1) + f2*m.log2(f2) + f3*m.log2(f3) + f4*m.log2(f4))\n",
    "print(HX)"
   ]
  },
  {
   "cell_type": "code",
   "execution_count": null,
   "metadata": {},
   "outputs": [],
   "source": []
  }
 ],
 "metadata": {
  "kernelspec": {
   "display_name": "Python 3",
   "language": "python",
   "name": "python3"
  },
  "language_info": {
   "codemirror_mode": {
    "name": "ipython",
    "version": 3
   },
   "file_extension": ".py",
   "mimetype": "text/x-python",
   "name": "python",
   "nbconvert_exporter": "python",
   "pygments_lexer": "ipython3",
   "version": "3.9.5"
  }
 },
 "nbformat": 4,
 "nbformat_minor": 4
}
